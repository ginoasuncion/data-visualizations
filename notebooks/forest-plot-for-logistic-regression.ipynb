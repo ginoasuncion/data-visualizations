{
 "cells": [
  {
   "cell_type": "markdown",
   "id": "ddb961ad",
   "metadata": {},
   "source": [
    "# Summary\n",
    "The purpose of this notebook is to demonstrate how to create a **forest plot** in Python to visualize the logistic regression results as an alternative to the summary table. Basically, the forest plot can be used to graphically show the odds ratios and confidence intervals associated with them. Furthermore, this plot may also be used as an aid in analyzing and interpreting findings from logistic regression."
   ]
  },
  {
   "cell_type": "markdown",
   "id": "31ab798b",
   "metadata": {},
   "source": [
    "# Dataset"
   ]
  },
  {
   "cell_type": "markdown",
   "id": "4cf1af91",
   "metadata": {},
   "source": [
    "The dataset we’ll be using is the **Pima Indians Diabetes Dataset** from the National Institute of Diabetes and Digestive and Kidney Diseases. This dataset is used to create models that predict the onset of diabetes based on certain diagnostic measurements from 768 observations. It’s a binary classification problem with eight input variables and one output variable.\n",
    "\n",
    "1. Number of times pregnant\n",
    "2. Plasma glucose concentration a 2 hours in an oral glucose tolerance test\n",
    "3. Diastolic blood pressure (mm Hg)\n",
    "4. Triceps skinfold thickness (mm)\n",
    "5. 2-Hour serum insulin (mu U/ml)\n",
    "6. Body mass index (weight in kg/(height in m)²)\n",
    "7. Diabetes pedigree function\n",
    "8. Age (years)\n",
    "9. Class variable (0 or 1; class value 1 is interpreted as “tested positive for diabetes”)\n",
    "\n",
    "Note that this dataset is imbalance. Among the 768 observations, only 268 (34.9%) instances were tested positive for diabetes. But, we’ll ignore for now the issue of having an imbalanced data."
   ]
  },
  {
   "cell_type": "code",
   "execution_count": 1,
   "id": "6c76b9f2",
   "metadata": {},
   "outputs": [
    {
     "data": {
      "text/html": [
       "<div>\n",
       "<style scoped>\n",
       "    .dataframe tbody tr th:only-of-type {\n",
       "        vertical-align: middle;\n",
       "    }\n",
       "\n",
       "    .dataframe tbody tr th {\n",
       "        vertical-align: top;\n",
       "    }\n",
       "\n",
       "    .dataframe thead th {\n",
       "        text-align: right;\n",
       "    }\n",
       "</style>\n",
       "<table border=\"1\" class=\"dataframe\">\n",
       "  <thead>\n",
       "    <tr style=\"text-align: right;\">\n",
       "      <th></th>\n",
       "      <th>Number of times pregnant</th>\n",
       "      <th>Plasma glucose concentration</th>\n",
       "      <th>Diastolic blood pressure</th>\n",
       "      <th>Triceps skinfold thickness</th>\n",
       "      <th>2-Hour serum insulin</th>\n",
       "      <th>Body mass index</th>\n",
       "      <th>Diabetes pedigree function</th>\n",
       "      <th>Age</th>\n",
       "      <th>Class</th>\n",
       "    </tr>\n",
       "  </thead>\n",
       "  <tbody>\n",
       "    <tr>\n",
       "      <th>0</th>\n",
       "      <td>6</td>\n",
       "      <td>148</td>\n",
       "      <td>72</td>\n",
       "      <td>35</td>\n",
       "      <td>0</td>\n",
       "      <td>33.6</td>\n",
       "      <td>0.627</td>\n",
       "      <td>50</td>\n",
       "      <td>1</td>\n",
       "    </tr>\n",
       "    <tr>\n",
       "      <th>1</th>\n",
       "      <td>1</td>\n",
       "      <td>85</td>\n",
       "      <td>66</td>\n",
       "      <td>29</td>\n",
       "      <td>0</td>\n",
       "      <td>26.6</td>\n",
       "      <td>0.351</td>\n",
       "      <td>31</td>\n",
       "      <td>0</td>\n",
       "    </tr>\n",
       "    <tr>\n",
       "      <th>2</th>\n",
       "      <td>8</td>\n",
       "      <td>183</td>\n",
       "      <td>64</td>\n",
       "      <td>0</td>\n",
       "      <td>0</td>\n",
       "      <td>23.3</td>\n",
       "      <td>0.672</td>\n",
       "      <td>32</td>\n",
       "      <td>1</td>\n",
       "    </tr>\n",
       "    <tr>\n",
       "      <th>3</th>\n",
       "      <td>1</td>\n",
       "      <td>89</td>\n",
       "      <td>66</td>\n",
       "      <td>23</td>\n",
       "      <td>94</td>\n",
       "      <td>28.1</td>\n",
       "      <td>0.167</td>\n",
       "      <td>21</td>\n",
       "      <td>0</td>\n",
       "    </tr>\n",
       "    <tr>\n",
       "      <th>4</th>\n",
       "      <td>0</td>\n",
       "      <td>137</td>\n",
       "      <td>40</td>\n",
       "      <td>35</td>\n",
       "      <td>168</td>\n",
       "      <td>43.1</td>\n",
       "      <td>2.288</td>\n",
       "      <td>33</td>\n",
       "      <td>1</td>\n",
       "    </tr>\n",
       "  </tbody>\n",
       "</table>\n",
       "</div>"
      ],
      "text/plain": [
       "   Number of times pregnant  Plasma glucose concentration  \\\n",
       "0                         6                           148   \n",
       "1                         1                            85   \n",
       "2                         8                           183   \n",
       "3                         1                            89   \n",
       "4                         0                           137   \n",
       "\n",
       "   Diastolic blood pressure  Triceps skinfold thickness  2-Hour serum insulin  \\\n",
       "0                        72                          35                     0   \n",
       "1                        66                          29                     0   \n",
       "2                        64                           0                     0   \n",
       "3                        66                          23                    94   \n",
       "4                        40                          35                   168   \n",
       "\n",
       "   Body mass index  Diabetes pedigree function  Age  Class  \n",
       "0             33.6                       0.627   50      1  \n",
       "1             26.6                       0.351   31      0  \n",
       "2             23.3                       0.672   32      1  \n",
       "3             28.1                       0.167   21      0  \n",
       "4             43.1                       2.288   33      1  "
      ]
     },
     "execution_count": 1,
     "metadata": {},
     "output_type": "execute_result"
    }
   ],
   "source": [
    "import pandas as pd\n",
    "\n",
    "# column names\n",
    "var_names = [\"Number of times pregnant\", \"Plasma glucose concentration\", \\\n",
    "             \"Diastolic blood pressure\", \"Triceps skinfold thickness\", \\\n",
    "             \"2-Hour serum insulin\", \"Body mass index\", \"Diabetes pedigree function\", \\\n",
    "             \"Age\", \"Class\"] \n",
    "\n",
    "url = 'https://raw.githubusercontent.com/jbrownlee/Datasets/master/pima-indians-diabetes.csv'\n",
    "df = pd.read_csv(url, header=None, names=var_names)\n",
    "\n",
    "df.head(5)"
   ]
  },
  {
   "cell_type": "markdown",
   "id": "07c89b5a",
   "metadata": {},
   "source": [
    "# Build logistic regression model\n",
    "We built a logistic regression model using Python’s statsmodels library."
   ]
  },
  {
   "cell_type": "code",
   "execution_count": 2,
   "id": "54cbf700",
   "metadata": {},
   "outputs": [
    {
     "name": "stdout",
     "output_type": "stream",
     "text": [
      "Optimization terminated successfully.\n",
      "         Current function value: 0.608498\n",
      "         Iterations 5\n"
     ]
    }
   ],
   "source": [
    "import statsmodels.api as sm\n",
    "\n",
    "# defining dependent and independent variables\n",
    "Xtrain = df.iloc[:, :-1]\n",
    "ytrain = df.iloc[:, -1]\n",
    "  \n",
    "# build the model and fit the data\n",
    "model = sm.Logit(ytrain, Xtrain).fit()"
   ]
  },
  {
   "cell_type": "markdown",
   "id": "4acd0dcc",
   "metadata": {},
   "source": [
    "Here is the model summary."
   ]
  },
  {
   "cell_type": "code",
   "execution_count": 3,
   "id": "3468b789",
   "metadata": {},
   "outputs": [
    {
     "name": "stdout",
     "output_type": "stream",
     "text": [
      "                           Logit Regression Results                           \n",
      "==============================================================================\n",
      "Dep. Variable:                  Class   No. Observations:                  768\n",
      "Model:                          Logit   Df Residuals:                      760\n",
      "Method:                           MLE   Df Model:                            7\n",
      "Date:                Fri, 22 Oct 2021   Pseudo R-squ.:                 0.05922\n",
      "Time:                        14:06:25   Log-Likelihood:                -467.33\n",
      "converged:                       True   LL-Null:                       -496.74\n",
      "Covariance Type:            nonrobust   LLR p-value:                 2.583e-10\n",
      "================================================================================================\n",
      "                                   coef    std err          z      P>|z|      [0.025      0.975]\n",
      "------------------------------------------------------------------------------------------------\n",
      "Number of times pregnant         0.1284      0.029      4.484      0.000       0.072       0.185\n",
      "Plasma glucose concentration     0.0129      0.003      4.757      0.000       0.008       0.018\n",
      "Diastolic blood pressure        -0.0303      0.005     -6.481      0.000      -0.039      -0.021\n",
      "Triceps skinfold thickness       0.0002      0.006      0.032      0.974      -0.012       0.012\n",
      "2-Hour serum insulin             0.0007      0.001      0.942      0.346      -0.001       0.002\n",
      "Body mass index                 -0.0048      0.011     -0.449      0.653      -0.026       0.016\n",
      "Diabetes pedigree function       0.3203      0.240      1.335      0.182      -0.150       0.790\n",
      "Age                             -0.0156      0.008     -1.852      0.064      -0.032       0.001\n",
      "================================================================================================\n"
     ]
    }
   ],
   "source": [
    "print(model.summary())"
   ]
  },
  {
   "cell_type": "markdown",
   "id": "d3c388fa",
   "metadata": {},
   "source": [
    "To make the results more intuitive, we converted the log-odds into odds ratios. We also note here the statistically significant variables at a 95% confidence interval. Results show that the only statistically significant variables, among the eight variables, are the *number of times pregnant, plasma glucose concentration, and diastolic blood pressure*."
   ]
  },
  {
   "cell_type": "code",
   "execution_count": 4,
   "id": "adf68e3b",
   "metadata": {},
   "outputs": [
    {
     "data": {
      "text/html": [
       "<div>\n",
       "<style scoped>\n",
       "    .dataframe tbody tr th:only-of-type {\n",
       "        vertical-align: middle;\n",
       "    }\n",
       "\n",
       "    .dataframe tbody tr th {\n",
       "        vertical-align: top;\n",
       "    }\n",
       "\n",
       "    .dataframe thead th {\n",
       "        text-align: right;\n",
       "    }\n",
       "</style>\n",
       "<table border=\"1\" class=\"dataframe\">\n",
       "  <thead>\n",
       "    <tr style=\"text-align: right;\">\n",
       "      <th></th>\n",
       "      <th>2.5%</th>\n",
       "      <th>97.5%</th>\n",
       "      <th>Odds Ratio</th>\n",
       "      <th>pvalues</th>\n",
       "      <th>significant?</th>\n",
       "    </tr>\n",
       "  </thead>\n",
       "  <tbody>\n",
       "    <tr>\n",
       "      <th>Number of times pregnant</th>\n",
       "      <td>1.074966</td>\n",
       "      <td>1.202673</td>\n",
       "      <td>1.137028</td>\n",
       "      <td>7.316997e-06</td>\n",
       "      <td>significant</td>\n",
       "    </tr>\n",
       "    <tr>\n",
       "      <th>Plasma glucose concentration</th>\n",
       "      <td>1.007635</td>\n",
       "      <td>1.018434</td>\n",
       "      <td>1.013020</td>\n",
       "      <td>1.966761e-06</td>\n",
       "      <td>significant</td>\n",
       "    </tr>\n",
       "    <tr>\n",
       "      <th>Diastolic blood pressure</th>\n",
       "      <td>0.961273</td>\n",
       "      <td>0.979068</td>\n",
       "      <td>0.970130</td>\n",
       "      <td>9.136620e-11</td>\n",
       "      <td>significant</td>\n",
       "    </tr>\n",
       "    <tr>\n",
       "      <th>Triceps skinfold thickness</th>\n",
       "      <td>0.988406</td>\n",
       "      <td>1.012126</td>\n",
       "      <td>1.000196</td>\n",
       "      <td>9.741988e-01</td>\n",
       "      <td>not significant</td>\n",
       "    </tr>\n",
       "    <tr>\n",
       "      <th>2-Hour serum insulin</th>\n",
       "      <td>0.999202</td>\n",
       "      <td>1.002279</td>\n",
       "      <td>1.000739</td>\n",
       "      <td>3.461820e-01</td>\n",
       "      <td>not significant</td>\n",
       "    </tr>\n",
       "    <tr>\n",
       "      <th>Body mass index</th>\n",
       "      <td>0.974525</td>\n",
       "      <td>1.016310</td>\n",
       "      <td>0.995198</td>\n",
       "      <td>6.531163e-01</td>\n",
       "      <td>not significant</td>\n",
       "    </tr>\n",
       "    <tr>\n",
       "      <th>Diabetes pedigree function</th>\n",
       "      <td>0.860794</td>\n",
       "      <td>2.204426</td>\n",
       "      <td>1.377519</td>\n",
       "      <td>1.818417e-01</td>\n",
       "      <td>not significant</td>\n",
       "    </tr>\n",
       "    <tr>\n",
       "      <th>Age</th>\n",
       "      <td>0.968329</td>\n",
       "      <td>1.000914</td>\n",
       "      <td>0.984487</td>\n",
       "      <td>6.406465e-02</td>\n",
       "      <td>not significant</td>\n",
       "    </tr>\n",
       "  </tbody>\n",
       "</table>\n",
       "</div>"
      ],
      "text/plain": [
       "                                  2.5%     97.5%  Odds Ratio       pvalues  \\\n",
       "Number of times pregnant      1.074966  1.202673    1.137028  7.316997e-06   \n",
       "Plasma glucose concentration  1.007635  1.018434    1.013020  1.966761e-06   \n",
       "Diastolic blood pressure      0.961273  0.979068    0.970130  9.136620e-11   \n",
       "Triceps skinfold thickness    0.988406  1.012126    1.000196  9.741988e-01   \n",
       "2-Hour serum insulin          0.999202  1.002279    1.000739  3.461820e-01   \n",
       "Body mass index               0.974525  1.016310    0.995198  6.531163e-01   \n",
       "Diabetes pedigree function    0.860794  2.204426    1.377519  1.818417e-01   \n",
       "Age                           0.968329  1.000914    0.984487  6.406465e-02   \n",
       "\n",
       "                                 significant?  \n",
       "Number of times pregnant          significant  \n",
       "Plasma glucose concentration      significant  \n",
       "Diastolic blood pressure          significant  \n",
       "Triceps skinfold thickness    not significant  \n",
       "2-Hour serum insulin          not significant  \n",
       "Body mass index               not significant  \n",
       "Diabetes pedigree function    not significant  \n",
       "Age                           not significant  "
      ]
     },
     "execution_count": 4,
     "metadata": {},
     "output_type": "execute_result"
    }
   ],
   "source": [
    "import numpy as np\n",
    "\n",
    "params = model.params\n",
    "conf = model.conf_int()\n",
    "conf['Odds Ratio'] = params\n",
    "conf.columns = ['2.5%', '97.5%', 'Odds Ratio']\n",
    "odds = pd.DataFrame(np.exp(conf))\n",
    "# check if pvalues are significant\n",
    "odds['pvalues'] = model.pvalues\n",
    "odds['significant?'] = ['significant' if pval <= 0.05 else 'not significant' for pval in model.pvalues]\n",
    "odds"
   ]
  },
  {
   "cell_type": "markdown",
   "id": "00f4eedc",
   "metadata": {},
   "source": [
    "# Visualize results\n",
    "To visualize the logistic regression results, I used a forest plot (or blobbogram). Specifically, the forest plot was used to graphically represent the odds ratios and their corresponding confidence intervals. The markers reflect the odds ratios while the whiskers represent the confidence limits. I used the matplotlib library to generate this plot in Python. We can see that by representing the results with a forest plot, the story of our analysis is now much clearer."
   ]
  },
  {
   "cell_type": "code",
   "execution_count": 5,
   "id": "13110ef0",
   "metadata": {},
   "outputs": [
    {
     "data": {
      "image/png": "[encoded data removed]",
      "text/plain": [
       "<Figure size 900x600 with 1 Axes>"
      ]
     },
     "metadata": {
      "needs_background": "light"
     },
     "output_type": "display_data"
    }
   ],
   "source": [
    "import matplotlib.pyplot as plt\n",
    "\n",
    "plt.figure(figsize=(6, 4), dpi=150)\n",
    "ci = [odds.iloc[::-1]['2.5%'].values, odds.iloc[::-1]['97.5%'].values]\n",
    "\n",
    "plt.errorbar(x=odds.iloc[::-1]['Odds Ratio'], y=odds.iloc[::-1].index.values, xerr=ci,\n",
    "            color='black',  capsize=3, linestyle='None', linewidth=1,\n",
    "            marker=\"o\", markersize=5, mfc=\"black\", mec=\"black\")\n",
    "\n",
    "plt.axvline(x=1, linewidth=0.8, linestyle='--', color='black')\n",
    "plt.tick_params(axis='both', which='major', labelsize=8)\n",
    "plt.xlabel('Odds Ratio and 95% Confidence Interval', fontsize=8)\n",
    "plt.tight_layout()\n",
    "# plt.savefig('raw_forest_plot.png')\n",
    "plt.show()"
   ]
  },
  {
   "cell_type": "markdown",
   "id": "08f2f924",
   "metadata": {},
   "source": [
    "We can further enhance the figure above by including information on the statistical significance of the variable. Thus, I used color to distinguish statistically significant variables (red-colored lines) from those that are not statistically significant (gray-colored lines). This visualization, as shown in the figure below, allows us now to convey a more compelling story."
   ]
  },
  {
   "cell_type": "code",
   "execution_count": 6,
   "id": "c12ecc7a",
   "metadata": {},
   "outputs": [
    {
     "data": {
      "image/png": "[encoded data removed]",
      "text/plain": [
       "<Figure size 900x600 with 1 Axes>"
      ]
     },
     "metadata": {
      "needs_background": "light"
     },
     "output_type": "display_data"
    }
   ],
   "source": [
    "fig, ax = plt.subplots(nrows=1, sharex=True, sharey=True, figsize=(6, 4), dpi=150)\n",
    "\n",
    "for idx, row in odds.iloc[::-1].iterrows():\n",
    "    if row['significant?'] == 'significant':\n",
    "        plt.errorbar(x=[row['Odds Ratio']], y=[row.name], xerr=[[row['2.5%']], [row['97.5%']]],\n",
    "            ecolor='tab:red', capsize=3, linestyle='None', linewidth=1, marker=\"o\", \n",
    "                     markersize=5, mfc=\"tab:red\", mec=\"tab:red\")\n",
    "    else:\n",
    "        plt.errorbar(x=[row['Odds Ratio']], y=[row.name], xerr=[[row['2.5%']], [row['97.5%']]],\n",
    "            ecolor='tab:gray', capsize=3, linestyle='None', linewidth=1, marker=\"o\", \n",
    "                     markersize=5, mfc=\"tab:gray\", mec=\"tab:gray\")\n",
    "\n",
    "plt.axvline(x=1, linewidth=0.8, linestyle='--', color='black')\n",
    "plt.tick_params(axis='both', which='major', labelsize=8)\n",
    "plt.xlabel('Odds Ratio and 95% Confidence Interval', fontsize=8)\n",
    "plt.tight_layout()\n",
    "# plt.savefig('forest_plot.png')\n",
    "plt.show()"
   ]
  }
 ],
 "metadata": {
  "kernelspec": {
   "display_name": "Python 3",
   "language": "python",
   "name": "python3"
  },
  "language_info": {
   "codemirror_mode": {
    "name": "ipython",
    "version": 3
   },
   "file_extension": ".py",
   "mimetype": "text/x-python",
   "name": "python",
   "nbconvert_exporter": "python",
   "pygments_lexer": "ipython3",
   "version": "3.8.8"
  }
 },
 "nbformat": 4,
 "nbformat_minor": 5
}
